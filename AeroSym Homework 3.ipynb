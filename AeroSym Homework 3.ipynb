{
 "cells": [
  {
   "cell_type": "markdown",
   "metadata": {},
   "source": [
    "# Homework 3"
   ]
  },
  {
   "cell_type": "code",
   "execution_count": 9,
   "metadata": {},
   "outputs": [
    {
     "name": "stdout",
     "output_type": "stream",
     "text": [
      "Bisection method has converged\n",
      "  step        a         b          x          y\n",
      "[[  1.         -10.           2.          -4.           9.        ]\n",
      " [  2.          -4.           2.          -1.          -6.        ]\n",
      " [  3.          -4.          -1.          -2.5         -0.75      ]\n",
      " [  4.          -4.          -2.5         -3.25         3.5625    ]\n",
      " [  5.          -3.25        -2.5         -2.875        1.265625  ]\n",
      " [  6.          -2.875       -2.5         -2.6875       0.22265625]]\n",
      "Falsi method has converged\n",
      "Secant method has converged\n",
      "[5, 7, 16, -33, -8, -4, -3, -2, -2]\n"
     ]
    }
   ],
   "source": [
    "# problem 1\n",
    "from Pyfiles import PyFiles\n",
    "pyfi = PyFiles()\n",
    "ss = \"x**2 - 7\"\n",
    "out = pyfi.bisect(ss,-10,2,0.2,20)\n",
    "x,y = pyfi.falsi(ss,-20,2,0.2,20)\n",
    "x,y = pyfi.secant(ss,-20,2,0.2,20)\n",
    "x = pyfi.newtons_zero(ss,'2*x - 7','2',1,10,10e-16,100)\n",
    "print x"
   ]
  },
  {
   "cell_type": "code",
   "execution_count": 2,
   "metadata": {},
   "outputs": [
    {
     "name": "stdout",
     "output_type": "stream",
     "text": [
      "Bisection method has converged\n",
      "  step        a         b          x          y\n",
      "[[  1.             -10.               2.              -4.\n",
      "  -68.            ]\n",
      " [  2.              -4.               2.              -1.\n",
      "   -5.            ]\n",
      " [  3.              -1.               2.               0.5\n",
      "   -3.875         ]\n",
      " [  4.               0.5              2.               1.25\n",
      "   -2.046875      ]\n",
      " [  5.               1.25             2.               1.625\n",
      "    0.291015625   ]\n",
      " [  6.               1.25             1.625            1.4375\n",
      "   -1.029541015625]]\n",
      "Falsi method has converged\n",
      "Secant method has converged\n"
     ]
    },
    {
     "ename": "TypeError",
     "evalue": "newtons_zero() takes exactly 8 arguments (6 given)",
     "output_type": "error",
     "traceback": [
      "\u001b[0;31m---------------------------------------------------------------------------\u001b[0m",
      "\u001b[0;31mTypeError\u001b[0m                                 Traceback (most recent call last)",
      "\u001b[0;32m<ipython-input-2-17bb2fbbfe42>\u001b[0m in \u001b[0;36m<module>\u001b[0;34m()\u001b[0m\n\u001b[1;32m      3\u001b[0m \u001b[0mx\u001b[0m\u001b[0;34m,\u001b[0m\u001b[0my\u001b[0m \u001b[0;34m=\u001b[0m \u001b[0mpyfi\u001b[0m\u001b[0;34m.\u001b[0m\u001b[0mfalsi\u001b[0m\u001b[0;34m(\u001b[0m\u001b[0mss\u001b[0m\u001b[0;34m,\u001b[0m\u001b[0;34m-\u001b[0m\u001b[0;36m20\u001b[0m\u001b[0;34m,\u001b[0m\u001b[0;36m2\u001b[0m\u001b[0;34m,\u001b[0m\u001b[0;36m0.2\u001b[0m\u001b[0;34m,\u001b[0m\u001b[0;36m20\u001b[0m\u001b[0;34m)\u001b[0m\u001b[0;34m\u001b[0m\u001b[0m\n\u001b[1;32m      4\u001b[0m \u001b[0mx\u001b[0m\u001b[0;34m,\u001b[0m\u001b[0my\u001b[0m \u001b[0;34m=\u001b[0m \u001b[0mpyfi\u001b[0m\u001b[0;34m.\u001b[0m\u001b[0msecant\u001b[0m\u001b[0;34m(\u001b[0m\u001b[0mss\u001b[0m\u001b[0;34m,\u001b[0m\u001b[0;34m-\u001b[0m\u001b[0;36m20\u001b[0m\u001b[0;34m,\u001b[0m\u001b[0;36m2\u001b[0m\u001b[0;34m,\u001b[0m\u001b[0;36m0.2\u001b[0m\u001b[0;34m,\u001b[0m\u001b[0;36m20\u001b[0m\u001b[0;34m)\u001b[0m\u001b[0;34m\u001b[0m\u001b[0m\n\u001b[0;32m----> 5\u001b[0;31m \u001b[0mx\u001b[0m \u001b[0;34m=\u001b[0m \u001b[0mpyfi\u001b[0m\u001b[0;34m.\u001b[0m\u001b[0mnewtons_zero\u001b[0m\u001b[0;34m(\u001b[0m\u001b[0mss\u001b[0m\u001b[0;34m,\u001b[0m\u001b[0;34m-\u001b[0m\u001b[0;36m10\u001b[0m\u001b[0;34m,\u001b[0m\u001b[0;36m2\u001b[0m\u001b[0;34m,\u001b[0m\u001b[0;36m0.2\u001b[0m\u001b[0;34m,\u001b[0m\u001b[0;36m20\u001b[0m\u001b[0;34m)\u001b[0m\u001b[0;34m\u001b[0m\u001b[0m\n\u001b[0m",
      "\u001b[0;31mTypeError\u001b[0m: newtons_zero() takes exactly 8 arguments (6 given)"
     ]
    }
   ],
   "source": [
    "ss = \"x**3 - 4\"\n",
    "out = pyfi.bisect(ss,-10,2,0.2,20)\n",
    "x,y = pyfi.falsi(ss,-20,2,0.2,20)\n",
    "x,y = pyfi.secant(ss,-20,2,0.2,20)\n",
    "x = pyfi.newtons_zero(ss,-10,2,0.2,20)"
   ]
  },
  {
   "cell_type": "code",
   "execution_count": 4,
   "metadata": {},
   "outputs": [
    {
     "name": "stdout",
     "output_type": "stream",
     "text": [
      "Bisection method has converged\n",
      "  step        a         b          x          y\n",
      "[[ 1.                  0.                  5.\n",
      "   2.5                38.8125            ]\n",
      " [ 2.                  0.                  2.5\n",
      "   1.25                2.19140625        ]\n",
      " [ 3.                  0.                  1.25\n",
      "   0.625              -0.097412109375    ]\n",
      " [ 4.                  0.625               1.25\n",
      "   0.9375              0.5224761962890625]\n",
      " [ 5.                  0.625               0.9375\n",
      "   0.78125             0.1225290298461914]]\n",
      "Falsi method has converged\n",
      "Secant method has converged\n"
     ]
    },
    {
     "ename": "TypeError",
     "evalue": "newtons_zero() takes exactly 8 arguments (6 given)",
     "output_type": "error",
     "traceback": [
      "\u001b[0;31m---------------------------------------------------------------------------\u001b[0m",
      "\u001b[0;31mTypeError\u001b[0m                                 Traceback (most recent call last)",
      "\u001b[0;32m<ipython-input-4-9d47e9e38b45>\u001b[0m in \u001b[0;36m<module>\u001b[0;34m()\u001b[0m\n\u001b[1;32m      5\u001b[0m \u001b[0mx\u001b[0m\u001b[0;34m,\u001b[0m\u001b[0my\u001b[0m \u001b[0;34m=\u001b[0m \u001b[0mpyfi\u001b[0m\u001b[0;34m.\u001b[0m\u001b[0mfalsi\u001b[0m\u001b[0;34m(\u001b[0m\u001b[0mss\u001b[0m\u001b[0;34m,\u001b[0m\u001b[0ma\u001b[0m\u001b[0;34m,\u001b[0m\u001b[0mb\u001b[0m\u001b[0;34m,\u001b[0m\u001b[0;36m0.2\u001b[0m\u001b[0;34m,\u001b[0m\u001b[0;36m20\u001b[0m\u001b[0;34m)\u001b[0m\u001b[0;34m\u001b[0m\u001b[0m\n\u001b[1;32m      6\u001b[0m \u001b[0mx\u001b[0m\u001b[0;34m,\u001b[0m\u001b[0my\u001b[0m \u001b[0;34m=\u001b[0m \u001b[0mpyfi\u001b[0m\u001b[0;34m.\u001b[0m\u001b[0msecant\u001b[0m\u001b[0;34m(\u001b[0m\u001b[0mss\u001b[0m\u001b[0;34m,\u001b[0m\u001b[0ma\u001b[0m\u001b[0;34m,\u001b[0m\u001b[0mb\u001b[0m\u001b[0;34m,\u001b[0m\u001b[0;36m0.2\u001b[0m\u001b[0;34m,\u001b[0m\u001b[0;36m20\u001b[0m\u001b[0;34m)\u001b[0m\u001b[0;34m\u001b[0m\u001b[0m\n\u001b[0;32m----> 7\u001b[0;31m \u001b[0mx\u001b[0m \u001b[0;34m=\u001b[0m \u001b[0mpyfi\u001b[0m\u001b[0;34m.\u001b[0m\u001b[0mnewtons_zero\u001b[0m\u001b[0;34m(\u001b[0m\u001b[0mss\u001b[0m\u001b[0;34m,\u001b[0m\u001b[0ma\u001b[0m\u001b[0;34m,\u001b[0m\u001b[0mb\u001b[0m\u001b[0;34m,\u001b[0m\u001b[0;36m0.2\u001b[0m\u001b[0;34m,\u001b[0m\u001b[0;36m20\u001b[0m\u001b[0;34m)\u001b[0m\u001b[0;34m\u001b[0m\u001b[0m\n\u001b[0m",
      "\u001b[0;31mTypeError\u001b[0m: newtons_zero() takes exactly 8 arguments (6 given)"
     ]
    }
   ],
   "source": [
    "ss = \"x**4 - 0.25\"\n",
    "a = 0\n",
    "b = 5\n",
    "out = pyfi.bisect(ss,a,b,0.2,20)\n",
    "x,y = pyfi.falsi(ss,a,b,0.2,20)\n",
    "x,y = pyfi.secant(ss,a,b,0.2,20)\n",
    "x = pyfi.newtons_zero(ss,a,b,0.2,20)"
   ]
  },
  {
   "cell_type": "code",
   "execution_count": null,
   "metadata": {},
   "outputs": [],
   "source": []
  }
 ],
 "metadata": {
  "kernelspec": {
   "display_name": "Python 2",
   "language": "python",
   "name": "python2"
  },
  "language_info": {
   "codemirror_mode": {
    "name": "ipython",
    "version": 2
   },
   "file_extension": ".py",
   "mimetype": "text/x-python",
   "name": "python",
   "nbconvert_exporter": "python",
   "pygments_lexer": "ipython2",
   "version": "2.7.15"
  }
 },
 "nbformat": 4,
 "nbformat_minor": 2
}
