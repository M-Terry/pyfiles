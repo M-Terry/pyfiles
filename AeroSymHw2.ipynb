{
 "cells": [
  {
   "cell_type": "markdown",
   "metadata": {},
   "source": [
    "# Aero Sym HW 2"
   ]
  },
  {
   "cell_type": "code",
   "execution_count": 1,
   "metadata": {},
   "outputs": [],
   "source": [
    "from Pyfiles import PyFiles\n",
    "import math\n",
    "import matplotlib.pyplot as plt"
   ]
  },
  {
   "cell_type": "code",
   "execution_count": 2,
   "metadata": {},
   "outputs": [],
   "source": [
    "pyFi = PyFiles()"
   ]
  },
  {
   "cell_type": "code",
   "execution_count": 3,
   "metadata": {},
   "outputs": [
    {
     "name": "stdout",
     "output_type": "stream",
     "text": [
      "23282.528780589008 17.552434926424443\n"
     ]
    }
   ],
   "source": [
    "#p1\n",
    "ss2 = 'math.sqrt(1 + (1/math.cos(x)**4))'\n",
    "I2 = pyFi.guass_quad(ss2,0,2,2)\n",
    "II2 = pyFi.guass_quad(ss2,0,2,3)\n",
    "print I2, II2\n"
   ]
  },
  {
   "cell_type": "code",
   "execution_count": 4,
   "metadata": {},
   "outputs": [
    {
     "name": "stdout",
     "output_type": "stream",
     "text": [
      "iteration: 4\t Integral: 0.993671720902\n",
      "iteration: 8\t Integral: 0.994896189688\n",
      "iteration: 16\t Integral: 0.995214904823\n",
      "iteration: 32\t Integral: 0.995295372402\n",
      "iteration: 64\t Integral: 0.99531553858\n",
      "iteration: 128\t Integral: 0.995320583204\n"
     ]
    }
   ],
   "source": [
    "#p2\n",
    "ss = 'math.exp(-x**2)'\n",
    "error = []\n",
    "for a in [4,8,16,32,64,128]:\n",
    "    I = pyFi.trapezoidal(ss,0,2,a)\n",
    "    I = I*(2/math.sqrt(math.pi))\n",
    "    error.append(math.log(abs(I - pyFi.erf2())))\n",
    "    print \"iteration: \" + str(a) + \"\\t Integral: \" + str(I)"
   ]
  },
  {
   "cell_type": "code",
   "execution_count": 5,
   "metadata": {
    "scrolled": true
   },
   "outputs": [
    {
     "data": {
      "image/png": "[encoded data removed]",
      "text/plain": [
       "<Figure size 432x288 with 1 Axes>"
      ]
     },
     "metadata": {
      "needs_background": "light"
     },
     "output_type": "display_data"
    }
   ],
   "source": [
    "plt.plot(error)\n",
    "plt.ylabel('Error Value')\n",
    "plt.xlabel('Iteration')\n",
    "plt.title('Error Plot')\n",
    "plt.show()"
   ]
  },
  {
   "cell_type": "markdown",
   "metadata": {},
   "source": [
    "This plot shows that the more iterations we do in an integral the less error there is between it and the actual answer. "
   ]
  },
  {
   "cell_type": "markdown",
   "metadata": {},
   "source": [
    "#p3\n",
    "Logorithmic interpolations"
   ]
  },
  {
   "cell_type": "markdown",
   "metadata": {},
   "source": [
    "#p4 The Mathematical definition of Curvature is any of a number of loosely related concepts in different areas of geometry. Intuitively, curvature is the amount by which a geometric object such as a surface deviates from being a flat plane, or a curve from being straight as in the case of a line, but this is defined in different ways depending on the context. "
   ]
  },
  {
   "cell_type": "code",
   "execution_count": 6,
   "metadata": {},
   "outputs": [],
   "source": [
    "#p5 - 8.15\n",
    "x = [-2, -1, 0, 1, 2, 3, 4]\n",
    "y = [-14, 0.5, 3.1, 0, -3, 0, 16]\n",
    "xi = [i/100.0 for i in range(-200, 401, 1)]\n",
    "cia = pyFi.lagrange_coef(x,y)\n",
    "yia = pyFi.lagrange_eval(xi,x,cia)"
   ]
  },
  {
   "cell_type": "code",
   "execution_count": 7,
   "metadata": {},
   "outputs": [
    {
     "name": "stdout",
     "output_type": "stream",
     "text": [
      "[-1, -0.004166666666666667, 0.06458333333333334, 0, -1, 0, 0]\n"
     ]
    }
   ],
   "source": [
    "print cia"
   ]
  },
  {
   "cell_type": "code",
   "execution_count": 8,
   "metadata": {},
   "outputs": [
    {
     "data": {
      "text/plain": [
       "array([-1.40000000e+01, -1.37754265e+01, -1.35526662e+01, -1.33317128e+01,\n",
       "       -1.31125600e+01, -1.28952015e+01, -1.26796309e+01, -1.24658420e+01,\n",
       "       -1.22538286e+01, -1.20435842e+01, -1.18351027e+01, -1.16283777e+01,\n",
       "       -1.14234029e+01, -1.12201720e+01, -1.10186787e+01, -1.08189169e+01,\n",
       "       -1.06208800e+01, -1.04245619e+01, -1.02299563e+01, -1.00370568e+01,\n",
       "       -9.84585714e+00, -9.65635109e+00, -9.46853232e+00, -9.28239453e+00,\n",
       "       -9.09793143e+00, -8.91513672e+00, -8.73400411e+00, -8.55452730e+00,\n",
       "       -8.37670000e+00, -8.20051592e+00, -8.02596875e+00, -7.85305221e+00,\n",
       "       -7.68176000e+00, -7.51208583e+00, -7.34402339e+00, -7.17756641e+00,\n",
       "       -7.01270857e+00, -6.84944359e+00, -6.68776518e+00, -6.52766703e+00,\n",
       "       -6.36914286e+00, -6.21218636e+00, -6.05679125e+00, -5.90295123e+00,\n",
       "       -5.75066000e+00, -5.59991127e+00, -5.45069875e+00, -5.30301614e+00,\n",
       "       -5.15685714e+00, -5.01221547e+00, -4.86908482e+00, -4.72745891e+00,\n",
       "       -4.58733143e+00, -4.44869609e+00, -4.31154661e+00, -4.17587667e+00,\n",
       "       -4.04168000e+00, -3.90895029e+00, -3.77768125e+00, -3.64786658e+00,\n",
       "       -3.51950000e+00, -3.39257520e+00, -3.26708589e+00, -3.14302578e+00,\n",
       "       -3.02038857e+00, -2.89916797e+00, -2.77935768e+00, -2.66095141e+00,\n",
       "       -2.54394286e+00, -2.42832574e+00, -2.31409375e+00, -2.20124060e+00,\n",
       "       -2.08976000e+00, -1.97964565e+00, -1.87089125e+00, -1.76349051e+00,\n",
       "       -1.65743714e+00, -1.55272484e+00, -1.44934732e+00, -1.34729828e+00,\n",
       "       -1.24657143e+00, -1.14716047e+00, -1.04905911e+00, -9.52261049e-01,\n",
       "       -8.56760000e-01, -7.62549665e-01, -6.69623750e-01, -5.77975960e-01,\n",
       "       -4.87600000e-01, -3.98489576e-01, -3.10638393e-01, -2.24040156e-01,\n",
       "       -1.38688571e-01, -5.45773437e-02,  2.82998214e-02,  1.09949219e-01,\n",
       "        1.90377143e-01,  2.69589888e-01,  3.47593750e-01,  4.24395022e-01,\n",
       "        5.00000000e-01,  5.74414978e-01,  6.47646250e-01,  7.19700112e-01,\n",
       "        7.90582857e-01,  8.60300781e-01,  9.28860179e-01,  9.96267344e-01,\n",
       "        1.06252857e+00,  1.12765016e+00,  1.19163839e+00,  1.25449958e+00,\n",
       "        1.31624000e+00,  1.37686596e+00,  1.43638375e+00,  1.49479967e+00,\n",
       "        1.55212000e+00,  1.60835105e+00,  1.66349911e+00,  1.71757047e+00,\n",
       "        1.77057143e+00,  1.82250828e+00,  1.87338732e+00,  1.92321484e+00,\n",
       "        1.97199714e+00,  2.01974051e+00,  2.06645125e+00,  2.11213565e+00,\n",
       "        2.15680000e+00,  2.20045060e+00,  2.24309375e+00,  2.28473574e+00,\n",
       "        2.32538286e+00,  2.36504141e+00,  2.40371768e+00,  2.44141797e+00,\n",
       "        2.47814857e+00,  2.51391578e+00,  2.54872589e+00,  2.58258520e+00,\n",
       "        2.61550000e+00,  2.64747658e+00,  2.67852125e+00,  2.70864029e+00,\n",
       "        2.73784000e+00,  2.76612667e+00,  2.79350661e+00,  2.81998609e+00,\n",
       "        2.84557143e+00,  2.87026891e+00,  2.89408482e+00,  2.91702547e+00,\n",
       "        2.93909714e+00,  2.96030614e+00,  2.98065875e+00,  3.00016127e+00,\n",
       "        3.01882000e+00,  3.03664123e+00,  3.05363125e+00,  3.06979636e+00,\n",
       "        3.08514286e+00,  3.09967703e+00,  3.11340518e+00,  3.12633359e+00,\n",
       "        3.13846857e+00,  3.14981641e+00,  3.16038339e+00,  3.17017583e+00,\n",
       "        3.17920000e+00,  3.18746221e+00,  3.19496875e+00,  3.20172592e+00,\n",
       "        3.20774000e+00,  3.21301730e+00,  3.21756411e+00,  3.22138672e+00,\n",
       "        3.22449143e+00,  3.22688453e+00,  3.22857232e+00,  3.22956109e+00,\n",
       "        3.22985714e+00,  3.22946676e+00,  3.22839625e+00,  3.22665190e+00,\n",
       "        3.22424000e+00,  3.22116685e+00,  3.21743875e+00,  3.21306199e+00,\n",
       "        3.20804286e+00,  3.20238766e+00,  3.19610268e+00,  3.18919422e+00,\n",
       "        3.18166857e+00,  3.17353203e+00,  3.16479089e+00,  3.15545145e+00,\n",
       "        3.14552000e+00,  3.13500283e+00,  3.12390625e+00,  3.11223654e+00,\n",
       "        3.10000000e+00,  3.08720283e+00,  3.07385085e+00,  3.05994979e+00,\n",
       "        3.04550537e+00,  3.03052333e+00,  3.01500938e+00,  2.99896926e+00,\n",
       "        2.98240869e+00,  2.96533339e+00,  2.94774911e+00,  2.92966155e+00,\n",
       "        2.91107646e+00,  2.89199955e+00,  2.87243655e+00,  2.85239319e+00,\n",
       "        2.83187520e+00,  2.81088830e+00,  2.78943822e+00,  2.76753069e+00,\n",
       "        2.74517143e+00,  2.72236617e+00,  2.69912064e+00,  2.67544056e+00,\n",
       "        2.65133166e+00,  2.62679967e+00,  2.60185031e+00,  2.57648931e+00,\n",
       "        2.55072240e+00,  2.52455530e+00,  2.49799375e+00,  2.47104346e+00,\n",
       "        2.44371017e+00,  2.41599960e+00,  2.38791748e+00,  2.35946953e+00,\n",
       "        2.33066149e+00,  2.30149907e+00,  2.27198801e+00,  2.24213403e+00,\n",
       "        2.21194286e+00,  2.18142022e+00,  2.15057185e+00,  2.11940347e+00,\n",
       "        2.08792080e+00,  2.05612958e+00,  2.02403552e+00,  1.99164436e+00,\n",
       "        1.95896183e+00,  1.92599364e+00,  1.89274554e+00,  1.85922323e+00,\n",
       "        1.82543246e+00,  1.79137894e+00,  1.75706841e+00,  1.72250658e+00,\n",
       "        1.68769920e+00,  1.65265198e+00,  1.61737065e+00,  1.58186094e+00,\n",
       "        1.54612857e+00,  1.51017928e+00,  1.47401878e+00,  1.43765281e+00,\n",
       "        1.40108709e+00,  1.36432734e+00,  1.32737931e+00,  1.29024870e+00,\n",
       "        1.25294126e+00,  1.21546270e+00,  1.17781875e+00,  1.14001514e+00,\n",
       "        1.10205760e+00,  1.06395185e+00,  1.02570362e+00,  9.87318638e-01,\n",
       "        9.48802629e-01,  9.10161319e-01,  8.71400436e-01,  8.32525706e-01,\n",
       "        7.93542857e-01,  7.54457615e-01,  7.15275707e-01,  6.76002860e-01,\n",
       "        6.36644800e-01,  5.97207254e-01,  5.57695950e-01,  5.18116613e-01,\n",
       "        4.78474971e-01,  4.38776751e-01,  3.99027679e-01,  3.59233481e-01,\n",
       "        3.19399886e-01,  2.79532619e-01,  2.39637407e-01,  1.99719978e-01,\n",
       "        1.59786057e-01,  1.19841372e-01,  7.98916500e-02,  3.99426170e-02,\n",
       "        1.11022302e-16, -3.99304955e-02, -7.98432500e-02, -1.19732665e-01,\n",
       "       -1.59593143e-01, -1.99419085e-01, -2.39204893e-01, -2.78944969e-01,\n",
       "       -3.18633714e-01, -3.58265531e-01, -3.97834821e-01, -4.37335987e-01,\n",
       "       -4.76763429e-01, -5.16111549e-01, -5.55374750e-01, -5.94547433e-01,\n",
       "       -6.33624000e-01, -6.72598853e-01, -7.11466393e-01, -7.50221022e-01,\n",
       "       -7.88857143e-01, -8.27369156e-01, -8.65751464e-01, -9.03998469e-01,\n",
       "       -9.42104571e-01, -9.80064174e-01, -1.01787168e+00, -1.05552149e+00,\n",
       "       -1.09300800e+00, -1.13032562e+00, -1.16746875e+00, -1.20443179e+00,\n",
       "       -1.24120914e+00, -1.27779521e+00, -1.31418439e+00, -1.35037109e+00,\n",
       "       -1.38634971e+00, -1.42211466e+00, -1.45766032e+00, -1.49298111e+00,\n",
       "       -1.52807143e+00, -1.56292567e+00, -1.59753825e+00, -1.63190356e+00,\n",
       "       -1.66601600e+00, -1.69986998e+00, -1.73345989e+00, -1.76678015e+00,\n",
       "       -1.79982514e+00, -1.83258928e+00, -1.86506696e+00, -1.89725259e+00,\n",
       "       -1.92914057e+00, -1.96072530e+00, -1.99200118e+00, -2.02296261e+00,\n",
       "       -2.05360400e+00, -2.08391975e+00, -2.11390425e+00, -2.14355192e+00,\n",
       "       -2.17285714e+00, -2.20181433e+00, -2.23041789e+00, -2.25866222e+00,\n",
       "       -2.28654171e+00, -2.31405078e+00, -2.34118382e+00, -2.36793524e+00,\n",
       "       -2.39429943e+00, -2.42027080e+00, -2.44584375e+00, -2.47101268e+00,\n",
       "       -2.49577200e+00, -2.52011610e+00, -2.54403939e+00, -2.56753627e+00,\n",
       "       -2.59060114e+00, -2.61322841e+00, -2.63541246e+00, -2.65714772e+00,\n",
       "       -2.67842857e+00, -2.69924942e+00, -2.71960468e+00, -2.73948874e+00,\n",
       "       -2.75889600e+00, -2.77782087e+00, -2.79625775e+00, -2.81420104e+00,\n",
       "       -2.83164514e+00, -2.84858446e+00, -2.86501339e+00, -2.88092634e+00,\n",
       "       -2.89631771e+00, -2.91118191e+00, -2.92551332e+00, -2.93930636e+00,\n",
       "       -2.95255543e+00, -2.96525492e+00, -2.97739925e+00, -2.98898281e+00,\n",
       "       -3.00000000e+00, -3.01044495e+00, -3.02031065e+00, -3.02958983e+00,\n",
       "       -3.03827520e+00, -3.04635949e+00, -3.05383541e+00, -3.06069568e+00,\n",
       "       -3.06693303e+00, -3.07254017e+00, -3.07750982e+00, -3.08183471e+00,\n",
       "       -3.08550754e+00, -3.08852105e+00, -3.09086795e+00, -3.09254096e+00,\n",
       "       -3.09353280e+00, -3.09383619e+00, -3.09344385e+00, -3.09234850e+00,\n",
       "       -3.09054286e+00, -3.08801964e+00, -3.08477158e+00, -3.08079138e+00,\n",
       "       -3.07607177e+00, -3.07060547e+00, -3.06438519e+00, -3.05740366e+00,\n",
       "       -3.04965360e+00, -3.04112772e+00, -3.03181875e+00, -3.02171940e+00,\n",
       "       -3.01082240e+00, -2.99912046e+00, -2.98660631e+00, -2.97327266e+00,\n",
       "       -2.95911223e+00, -2.94411774e+00, -2.92828192e+00, -2.91159748e+00,\n",
       "       -2.89405714e+00, -2.87565363e+00, -2.85637965e+00, -2.83622793e+00,\n",
       "       -2.81519120e+00, -2.79326217e+00, -2.77043355e+00, -2.74669807e+00,\n",
       "       -2.72204846e+00, -2.69647742e+00, -2.66997768e+00, -2.64254196e+00,\n",
       "       -2.61416297e+00, -2.58483344e+00, -2.55454609e+00, -2.52329364e+00,\n",
       "       -2.49106880e+00, -2.45786430e+00, -2.42367285e+00, -2.38848718e+00,\n",
       "       -2.35230000e+00, -2.31510404e+00, -2.27689201e+00, -2.23765663e+00,\n",
       "       -2.19739063e+00, -2.15608672e+00, -2.11373762e+00, -2.07033606e+00,\n",
       "       -2.02587474e+00, -1.98034640e+00, -1.93374375e+00, -1.88605951e+00,\n",
       "       -1.83728640e+00, -1.78741714e+00, -1.73644445e+00, -1.68436105e+00,\n",
       "       -1.63115966e+00, -1.57683299e+00, -1.52137378e+00, -1.46477473e+00,\n",
       "       -1.40702857e+00, -1.34812802e+00, -1.28806579e+00, -1.22683461e+00,\n",
       "       -1.16442720e+00, -1.10083627e+00, -1.03605455e+00, -9.70074753e-01,\n",
       "       -9.02889600e-01, -8.34491812e-01, -7.64874107e-01, -6.94029206e-01,\n",
       "       -6.21949829e-01, -5.48628694e-01, -4.74058521e-01, -3.98232031e-01,\n",
       "       -3.21141943e-01, -2.42780976e-01, -1.63141850e-01, -8.22172848e-02,\n",
       "        2.22044605e-16,  8.35172848e-02,  1.68341850e-01,  2.54480976e-01,\n",
       "        3.41941943e-01,  4.30732031e-01,  5.20858521e-01,  6.12328694e-01,\n",
       "        7.05149829e-01,  7.99329206e-01,  8.94874107e-01,  9.91791812e-01,\n",
       "        1.09008960e+00,  1.18977475e+00,  1.29085455e+00,  1.39333627e+00,\n",
       "        1.49722720e+00,  1.60253461e+00,  1.70926579e+00,  1.81742802e+00,\n",
       "        1.92702857e+00,  2.03807473e+00,  2.15057378e+00,  2.26453299e+00,\n",
       "        2.37995966e+00,  2.49686105e+00,  2.61524445e+00,  2.73511714e+00,\n",
       "        2.85648640e+00,  2.97935951e+00,  3.10374375e+00,  3.22964640e+00,\n",
       "        3.35707474e+00,  3.48603606e+00,  3.61653762e+00,  3.74858672e+00,\n",
       "        3.88219063e+00,  4.01735663e+00,  4.15409201e+00,  4.29240404e+00,\n",
       "        4.43230000e+00,  4.57378718e+00,  4.71687285e+00,  4.86156430e+00,\n",
       "        5.00786880e+00,  5.15579364e+00,  5.30534609e+00,  5.45653344e+00,\n",
       "        5.60936297e+00,  5.76384196e+00,  5.91997768e+00,  6.07777742e+00,\n",
       "        6.23724846e+00,  6.39839807e+00,  6.56123355e+00,  6.72576217e+00,\n",
       "        6.89199120e+00,  7.05992793e+00,  7.22957965e+00,  7.40095363e+00,\n",
       "        7.57405714e+00,  7.74889748e+00,  7.92548192e+00,  8.10381774e+00,\n",
       "        8.28391223e+00,  8.46577266e+00,  8.64940631e+00,  8.83482046e+00,\n",
       "        9.02202240e+00,  9.21101940e+00,  9.40181875e+00,  9.59442772e+00,\n",
       "        9.78885360e+00,  9.98510366e+00,  1.01831852e+01,  1.03831055e+01,\n",
       "        1.05848718e+01,  1.07884914e+01,  1.09939716e+01,  1.12013196e+01,\n",
       "        1.14105429e+01,  1.16216485e+01,  1.18346438e+01,  1.20495362e+01,\n",
       "        1.22663328e+01,  1.24850410e+01,  1.27056679e+01,  1.29282211e+01,\n",
       "        1.31527075e+01,  1.33791347e+01,  1.36075098e+01,  1.38378402e+01,\n",
       "        1.40701330e+01,  1.43043957e+01,  1.45406354e+01,  1.47788595e+01,\n",
       "        1.50190752e+01,  1.52612898e+01,  1.55055106e+01,  1.57517449e+01,\n",
       "        1.60000000e+01])"
      ]
     },
     "execution_count": 8,
     "metadata": {},
     "output_type": "execute_result"
    }
   ],
   "source": [
    "from scipy.interpolate import interp1d\n",
    "myint =  interp1d(x, y,3)\n",
    "myint(xi)"
   ]
  },
  {
   "cell_type": "code",
   "execution_count": null,
   "metadata": {},
   "outputs": [],
   "source": []
  },
  {
   "cell_type": "code",
   "execution_count": null,
   "metadata": {},
   "outputs": [],
   "source": []
  }
 ],
 "metadata": {
  "kernelspec": {
   "display_name": "Python 2",
   "language": "python",
   "name": "python2"
  },
  "language_info": {
   "codemirror_mode": {
    "name": "ipython",
    "version": 2
   },
   "file_extension": ".py",
   "mimetype": "text/x-python",
   "name": "python",
   "nbconvert_exporter": "python",
   "pygments_lexer": "ipython2",
   "version": "2.7.15"
  }
 },
 "nbformat": 4,
 "nbformat_minor": 2
}
