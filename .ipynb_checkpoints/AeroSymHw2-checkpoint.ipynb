{
 "cells": [
  {
   "cell_type": "markdown",
   "metadata": {},
   "source": [
    "# Aero Sym HW 2"
   ]
  },
  {
   "cell_type": "code",
   "execution_count": 1,
   "metadata": {},
   "outputs": [],
   "source": [
    "from Pyfiles import PyFiles\n",
    "import math\n",
    "import matplotlib.pyplot as plt"
   ]
  },
  {
   "cell_type": "code",
   "execution_count": 2,
   "metadata": {},
   "outputs": [],
   "source": [
    "pyFi = PyFiles()"
   ]
  },
  {
   "cell_type": "code",
   "execution_count": 3,
   "metadata": {},
   "outputs": [
    {
     "name": "stdout",
     "output_type": "stream",
     "text": [
      "25.77468991784083 6.768756829516105 26.76517433287628 6.788492289866264\n"
     ]
    }
   ],
   "source": [
    "#p1\n",
    "ss = 'math.exp(x)**2'\n",
    "ss2 = 'math.sqrt(1 + math.exp(x)**2)'\n",
    "I = pyFi.guass_quad(ss,0,2,2)\n",
    "I2 = pyFi.guass_quad(ss2,0,2,2)\n",
    "II = pyFi.guass_quad(ss,0,2,3)\n",
    "II2 = pyFi.guass_quad(ss2,0,2,3)\n",
    "print I, I2, II, II2\n"
   ]
  },
  {
   "cell_type": "code",
   "execution_count": 4,
   "metadata": {},
   "outputs": [
    {
     "name": "stdout",
     "output_type": "stream",
     "text": [
      "iteration: 4\t Integral: 0.993671720902\n",
      "iteration: 8\t Integral: 0.994896189688\n",
      "iteration: 16\t Integral: 0.995214904823\n",
      "iteration: 32\t Integral: 0.995295372402\n",
      "iteration: 64\t Integral: 0.99531553858\n",
      "iteration: 128\t Integral: 0.995320583204\n"
     ]
    }
   ],
   "source": [
    "#p2\n",
    "ss = 'math.exp(-x**2)'\n",
    "error = []\n",
    "for a in [4,8,16,32,64,128]:\n",
    "    I = pyFi.trapezoidal(ss,0,2,a)\n",
    "    I = I*(2/math.sqrt(math.pi))\n",
    "    error.append(abs(I - pyFi.erf2()))\n",
    "    print \"iteration: \" + str(a) + \"\\t Integral: \" + str(I)"
   ]
  },
  {
   "cell_type": "code",
   "execution_count": 5,
   "metadata": {
    "scrolled": true
   },
   "outputs": [
    {
     "data": {
      "image/png": "[encoded data removed]",
      "text/plain": [
       "<Figure size 432x288 with 1 Axes>"
      ]
     },
     "metadata": {
      "needs_background": "light"
     },
     "output_type": "display_data"
    }
   ],
   "source": [
    "plt.plot(error)\n",
    "plt.ylabel('Error Value')\n",
    "plt.xlabel('Iteration')\n",
    "plt.title('Error Plot')\n",
    "plt.show()"
   ]
  },
  {
   "cell_type": "markdown",
   "metadata": {},
   "source": [
    "This plot shows that the more iterations we do in an integral the less error there is between it and the actual answer. "
   ]
  },
  {
   "cell_type": "markdown",
   "metadata": {},
   "source": [
    "#p3\n",
    "Logorithmic interpolations"
   ]
  },
  {
   "cell_type": "markdown",
   "metadata": {},
   "source": [
    "#p4 The Mathematical definition of Curvature is any of a number of loosely related concepts in different areas of geometry. Intuitively, curvature is the amount by which a geometric object such as a surface deviates from being a flat plane, or a curve from being straight as in the case of a line, but this is defined in different ways depending on the context. "
   ]
  },
  {
   "cell_type": "code",
   "execution_count": 6,
   "metadata": {},
   "outputs": [],
   "source": [
    "#p5 - 8.15\n",
    "x = [-2, -1, 0, 1, 2, 3, 4]\n",
    "y = [-14, 0.5, 3.1, 0, -3, 0, 16]\n",
    "xi = [i/100.0 for i in range(0, 401, 1)]\n",
    "cia = pyFi.lagrange_coef(x,y)\n",
    "yia = pyFi.lagrange_eval()"
   ]
  },
  {
   "cell_type": "code",
   "execution_count": null,
   "metadata": {},
   "outputs": [],
   "source": []
  }
 ],
 "metadata": {
  "kernelspec": {
   "display_name": "Python 2",
   "language": "python",
   "name": "python2"
  },
  "language_info": {
   "codemirror_mode": {
    "name": "ipython",
    "version": 2
   },
   "file_extension": ".py",
   "mimetype": "text/x-python",
   "name": "python",
   "nbconvert_exporter": "python",
   "pygments_lexer": "ipython2",
   "version": "2.7.15"
  }
 },
 "nbformat": 4,
 "nbformat_minor": 2
}
