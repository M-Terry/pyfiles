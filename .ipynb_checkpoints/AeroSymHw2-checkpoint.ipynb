{
 "cells": [
  {
   "cell_type": "markdown",
   "metadata": {},
   "source": [
    "# Aero Sym HW 2"
   ]
  },
  {
   "cell_type": "code",
   "execution_count": 12,
   "metadata": {},
   "outputs": [],
   "source": [
    "from Pyfiles import PyFiles\n",
    "import math\n",
    "import matplotlib.pyplot as plt"
   ]
  },
  {
   "cell_type": "code",
   "execution_count": 2,
   "metadata": {},
   "outputs": [],
   "source": [
    "pyFi = PyFiles()"
   ]
  },
  {
   "cell_type": "code",
   "execution_count": 4,
   "metadata": {},
   "outputs": [
    {
     "name": "stdout",
     "output_type": "stream",
     "text": [
      "25.77468991784083 6.768756829516105 26.76517433287628 6.788492289866264\n"
     ]
    }
   ],
   "source": [
    "#p1\n",
    "ss = 'math.exp(x)**2'\n",
    "ss2 = 'math.sqrt(1 + math.exp(x)**2)'\n",
    "I = pyFi.guass_quad(ss,0,2,2)\n",
    "I2 = pyFi.guass_quad(ss2,0,2,2)\n",
    "II = pyFi.guass_quad(ss,0,2,3)\n",
    "II2 = pyFi.guass_quad(ss2,0,2,3)\n",
    "print I, I2, II, II2\n"
   ]
  },
  {
   "cell_type": "code",
   "execution_count": 11,
   "metadata": {},
   "outputs": [
    {
     "name": "stdout",
     "output_type": "stream",
     "text": [
      "iteration: 4\t Integral: 0.993671720902\n",
      "iteration: 8\t Integral: 0.994896189688\n",
      "iteration: 16\t Integral: 0.995214904823\n",
      "iteration: 32\t Integral: 0.995295372402\n",
      "iteration: 64\t Integral: 0.99531553858\n",
      "iteration: 128\t Integral: 0.995320583204\n",
      "[0.0016505441167173895, 0.0004260753306445375, 0.00010736019625690041, 2.6892616920459744e-05, 6.7264393086574614e-06, 1.681815137266618e-06]\n"
     ]
    }
   ],
   "source": [
    "#p2\n",
    "ss = 'math.exp(-x**2)'\n",
    "error = []\n",
    "for a in [4,8,16,32,64,128]:\n",
    "    I = pyFi.trapezoidal(ss,0,2,a)\n",
    "    I = I*(2/math.sqrt(math.pi))\n",
    "    error.append(abs(I - pyFi.erf2()))\n",
    "    print \"iteration: \" + str(a) + \"\\t Integral: \" + str(I)"
   ]
  },
  {
   "cell_type": "code",
   "execution_count": 14,
   "metadata": {},
   "outputs": [
    {
     "data": {
      "image/png": "[encoded data removed]",
      "text/plain": [
       "<Figure size 432x288 with 1 Axes>"
      ]
     },
     "metadata": {
      "needs_background": "light"
     },
     "output_type": "display_data"
    }
   ],
   "source": [
    "plt.plot(error)\n",
    "plt.ylabel('Error Value')\n",
    "plt.xlabel('Iteration')\n",
    "plt.title('Error Plot')\n",
    "plt.show()"
   ]
  },
  {
   "cell_type": "code",
   "execution_count": null,
   "metadata": {},
   "outputs": [],
   "source": []
  },
  {
   "cell_type": "code",
   "execution_count": null,
   "metadata": {},
   "outputs": [],
   "source": []
  }
 ],
 "metadata": {
  "kernelspec": {
   "display_name": "Python 2",
   "language": "python",
   "name": "python2"
  },
  "language_info": {
   "codemirror_mode": {
    "name": "ipython",
    "version": 2
   },
   "file_extension": ".py",
   "mimetype": "text/x-python",
   "name": "python",
   "nbconvert_exporter": "python",
   "pygments_lexer": "ipython2",
   "version": "2.7.15"
  }
 },
 "nbformat": 4,
 "nbformat_minor": 2
}
